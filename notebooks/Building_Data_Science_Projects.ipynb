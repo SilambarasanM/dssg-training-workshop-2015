{
 "cells": [
  {
   "cell_type": "markdown",
   "metadata": {
    "slideshow": {
     "slide_type": "slide"
    }
   },
   "source": [
    "#Building Better Data Science Projects, One Codeblock at a Time\n",
    "\n"
   ]
  },
  {
   "cell_type": "markdown",
   "metadata": {
    "slideshow": {
     "slide_type": "slide"
    }
   },
   "source": [
    "#The Golden Pipeline\n",
    "\n",
    "Lots of people are thinking about pipelines these days:\n",
    "\n",
    "- https://databricks.com/blog/2015/01/07/ml-pipelines-a-new-high-level-api-for-mllib.html\n",
    "- https://github.com/dssg/UPSG\n",
    "- https://github.com/dssg/eights\n",
    "- https://github.com/allenai/pipeline\n",
    "- https://github.com/ropensci/rrrpkg\n",
    "- https://github.com/dssg/feature_gen_pipeline\n"
   ]
  },
  {
   "cell_type": "markdown",
   "metadata": {
    "slideshow": {
     "slide_type": "slide"
    }
   },
   "source": [
    "#Pipelines are a great idea.\n",
    "\n",
    "It’s true that ultimately most data science projects can be crisply defined as \n",
    "data ingestion -> feature extraction -> training -> ensembling ->validation\n",
    "\n",
    "This makes it sound as though doing a data science projects just "
   ]
  },
  {
   "cell_type": "markdown",
   "metadata": {
    "slideshow": {
     "slide_type": "slide"
    }
   },
   "source": [
    "#What makes building a data science project so hard?\n",
    "You are splitting between telling a computational narrative & building production software.*\n",
    "\n",
    "*for more on computational narrative, read the first part of the blog post on the Jupyter project: http://blog.jupyter.org/2015/07/07/project-jupyter-computational-narratives-as-the-engine-of-collaborative-data-science/\n",
    "\n",
    "That means you often have to go from writing code interactively for exploration and discovery, to writing code for reproducible and rapidly repeatable tasks, then back to interactive code for discovery.\n",
    "\n",
    "On top of that, many of you are just getting a handle on many of these tools.\n",
    "\n",
    "This is very challenging. It can cause your repos to get out of hand. \n",
    "- https://github.com/dssg/nfp2"
   ]
  },
  {
   "cell_type": "markdown",
   "metadata": {
    "slideshow": {
     "slide_type": "slide"
    }
   },
   "source": [
    "#The hard truth: data science projects are more than the pipeline\n",
    "\n",
    "A full project will contain\n",
    "- documentation and background materials\n",
    "- presentations and reports\n",
    "- bash scripts and configuartion files\n",
    "- exploritory scripts and figuring shit out spaghetti code\n",
    "- main pipeline library\n",
    "- tests\n",
    "- helper functions and utilities\n",
    "- web applications\n",
    "- devops junk"
   ]
  },
  {
   "cell_type": "markdown",
   "metadata": {
    "slideshow": {
     "slide_type": "slide"
    }
   },
   "source": [
    "##Example\n",
    "https://github.com/dssg/WorldBank2015\n",
    "\n",
    "You are in the awkward, gangly phase of your project where you are facing growing pains from having wonderful, wide-eyed exploratory childhood to the much more structured and predictable adulthood. \n",
    "\n",
    "This is about helping with that difficult transition. This is your project’s coming of age novel. From exploratory scripts to reliable, modular, reusable code.\n"
   ]
  },
  {
   "cell_type": "markdown",
   "metadata": {
    "slideshow": {
     "slide_type": "slide"
    }
   },
   "source": [
    "#Goals\n",
    "\n",
    "##Increase Productivity.\n",
    "- I want to help you make changes to your code that will make you and your team more productive during the last four\n",
    "\n",
    "##Increase Reusability\n",
    "- I want to help you make changes and start using best practices that will increase the likelihood that someone, anyone, can make sense of what you’ve done after the fellowship is over, and may even want to reuse your code. This is a high bar. "
   ]
  },
  {
   "cell_type": "markdown",
   "metadata": {
    "slideshow": {
     "slide_type": "slide"
    }
   },
   "source": [
    "#Who is this Aimed at?\n",
    "- beginner, intermediate, pros\n",
    "- going to try and hit on some tips for everyone\n",
    "- we’ll start with the basics and go from there"
   ]
  },
  {
   "cell_type": "markdown",
   "metadata": {
    "slideshow": {
     "slide_type": "slide"
    }
   },
   "source": [
    "# How is it structured?\n",
    "\n",
    "##Big Tip!\n",
    "- some explanatory text\n",
    "##Examples\n",
    "##Hands-on applications and Q&A (for the big stuff)\n"
   ]
  },
  {
   "cell_type": "markdown",
   "metadata": {
    "slideshow": {
     "slide_type": "slide"
    }
   },
   "source": [
    "#Tips on Repo Organization"
   ]
  },
  {
   "cell_type": "markdown",
   "metadata": {
    "slideshow": {
     "slide_type": "slide"
    }
   },
   "source": [
    "#Describe your repo!\n",
    "- this reminds you what you’re doing and let’s other people know what to do\n",
    "\n",
    "##Examples\n",
    "https://github.com/dssg"
   ]
  },
  {
   "cell_type": "markdown",
   "metadata": {
    "slideshow": {
     "slide_type": "slide"
    }
   },
   "source": [
    "#Reoganization can make your life easier\n",
    "- suggested files in root\n",
    "     - README.md\n",
    "     - .gitignore\n",
    "     - license.txt\n",
    "     - global_config\n",
    "     - [setup.py]\n",
    "     - [requirements.txt]\n",
    "     - [travis]\n",
    "- suggested directories in root\n",
    "     - pipeline_module/app\n",
    "     - scripts/notebooks\n",
    "     - db\n",
    "     - docs\n",
    "     - reports\n",
    "     - test\n"
   ]
  },
  {
   "cell_type": "markdown",
   "metadata": {
    "slideshow": {
     "slide_type": "slide"
    }
   },
   "source": [
    "#Tips on root files"
   ]
  },
  {
   "cell_type": "markdown",
   "metadata": {
    "slideshow": {
     "slide_type": "slide"
    }
   },
   "source": [
    "#Separate config files that serve two purposes\n",
    "- Config files can make things safer by hiding information, and making things faster and reproducible by consolidating information. Keep the two separate.\n",
    "- I prefer a global configuration file called settings.py and then json or yaml from model configuration\n",
    "- put your settings.py in your .gitignore. \n",
    "- put a settings.py.example in your repos root directory"
   ]
  },
  {
   "cell_type": "markdown",
   "metadata": {
    "slideshow": {
     "slide_type": "slide"
    }
   },
   "source": [
    "#Tips on refactoring"
   ]
  },
  {
   "cell_type": "markdown",
   "metadata": {
    "slideshow": {
     "slide_type": "slide"
    }
   },
   "source": [
    "#Each journey starts with a single script\n",
    "- The jorney of a code snippet\n",
    "https://www.youtube.com/watch?v=tyeJ55o3El0\n",
    "     - exploratory scripts\n",
    "     - functional scripts\n",
    "     - modules\n",
    "     - Classes and Objects"
   ]
  },
  {
   "cell_type": "markdown",
   "metadata": {
    "slideshow": {
     "slide_type": "slide"
    }
   },
   "source": [
    "#Everyone should get to modules\n",
    "- modules make everyone’s life easier\n",
    "- they organize your functions\n",
    "- they simplfy the coding"
   ]
  },
  {
   "cell_type": "markdown",
   "metadata": {
    "slideshow": {
     "slide_type": "slide"
    }
   },
   "source": [
    "#Everything doesn’t have to be OO\n",
    "- OO programming is powerful.\n",
    "- It can also be unnecessarily confusing to beginners. Don’t feel pressure to make it object oriented just because the cool kids are doing it. Only do it if it’s going to make you more productive, which, if you’re relatively new to programming, it probably won’t."
   ]
  },
  {
   "cell_type": "markdown",
   "metadata": {
    "slideshow": {
     "slide_type": "slide"
    }
   },
   "source": [
    "#Basics on transitioning your code from interactive scripts to functions"
   ]
  },
  {
   "cell_type": "markdown",
   "metadata": {
    "slideshow": {
     "slide_type": "slide"
    }
   },
   "source": [
    "#Think functionally\n",
    "- every function takes something or things and returns a thing.\n",
    "- the most important thing to keep track of is what a function receives and what it returns\n",
    "- for almost all of your functions in your pipeline will fall into three buckets\n",
    "     - takes "
   ]
  },
  {
   "cell_type": "markdown",
   "metadata": {
    "slideshow": {
     "slide_type": "slide"
    }
   },
   "source": [
    "#Use Docstrings, your teammates will thank you. The World will thank you.\n",
    "- docstrings help you and others now what a function does and how to use it.\n",
    "- put the docstring directly below the definition line\n",
    "- ‘’’ This is a docstring ‘''\n",
    "- Tell what a function does, what it receives and what it returns\n",
    "\n",
    "##Examples"
   ]
  },
  {
   "cell_type": "markdown",
   "metadata": {
    "slideshow": {
     "slide_type": "slide"
    }
   },
   "source": [
    "#Give default values when defining your functions\n",
    "- this will mean things run the way you want, even when you forget\n",
    "- \n",
    "\n",
    "##Action: Find a function in your code you can add a docstring to and do it now\n"
   ]
  },
  {
   "cell_type": "markdown",
   "metadata": {
    "slideshow": {
     "slide_type": "slide"
    }
   },
   "source": [
    "#When you call a function, use named arguments \n",
    "- your team will thank you, you will thank you\n",
    "- we’ll cover keyword arguments in a bit\n",
    "\n",
    "Action: find a function call and name the arguments\n"
   ]
  },
  {
   "cell_type": "markdown",
   "metadata": {
    "slideshow": {
     "slide_type": "slide"
    }
   },
   "source": [
    "#Tips on going from functions in a single file to modules\n"
   ]
  },
  {
   "cell_type": "markdown",
   "metadata": {
    "slideshow": {
     "slide_type": "slide"
    }
   },
   "source": [
    "#Organize your functions by functional grouping in pipeline\n",
    "- Basic structure\n",
    "     - ETL\n",
    "     - featured\n",
    "     - models\n",
    "     - evaluation\n",
    "     - utils\n",
    "     - tests\n",
    "- start with files that group functions\n",
    "- then move to directories that group files\n",
    "\n",
    "##Example\n",
    "https://github.com/dssg/cincinnati2015\n",
    "https://github.com/dssg/Australian_Conservation_Foundation/blob/master/Models/Clustering/clustering_template.ipynb\n",
    "\n",
    "##Example\n",
    "https://github.com/dssg/Australian_Conservation_Foundation/tree/master/Models\n",
    "\n"
   ]
  },
  {
   "cell_type": "markdown",
   "metadata": {
    "slideshow": {
     "slide_type": "slide"
    }
   },
   "source": [
    "#Making your grouping of files into a module is not hard\n",
    "- add __init__py\n",
    "- bring in all the functions from a file by puting\n",
    "`from directory_name import file_name`\n",
    "\n",
    "Now you’ve got all the functions!\n",
    "\n",
    "##Example\n",
    "\n"
   ]
  },
  {
   "cell_type": "markdown",
   "metadata": {
    "slideshow": {
     "slide_type": "slide"
    }
   },
   "source": [
    "#Tips on going from groupings of functions to classes"
   ]
  },
  {
   "cell_type": "markdown",
   "metadata": {
    "slideshow": {
     "slide_type": "slide"
    }
   },
   "source": [
    "#Go OO if you know how"
   ]
  },
  {
   "cell_type": "markdown",
   "metadata": {
    "slideshow": {
     "slide_type": "slide"
    }
   },
   "source": [
    "#Protips on Functions"
   ]
  },
  {
   "cell_type": "markdown",
   "metadata": {
    "slideshow": {
     "slide_type": "slide"
    }
   },
   "source": [
    "#Functions in python are first class citizens. They are objects, so you can do a lot with them\n",
    "- assign functions to variables\n",
    "- define functions inside of other functions\n",
    "- functions can be passed as parameters to other functions\n",
    "- functions can return other functions\n",
    "- inner functions have access to enclosing scope (closure)"
   ]
  },
  {
   "cell_type": "markdown",
   "metadata": {
    "slideshow": {
     "slide_type": "slide"
    }
   },
   "source": [
    " #Decorators let you change things without changing things!\n",
    "- decorators extend the behavior of functions that we don’t want to modify\n",
    "- decorators “wrap” functions, so that you can define a function that takes a function as an argument, generates a new function that augments the work of the original function, and returns the augmented function for use.\n",
    "\n",
    "##Example\n",
    "https://github.com/dssg/education-college/blob/master/code/modeling/featurepipeline/abstractboundedfeature.py\n",
    "\n"
   ]
  },
  {
   "cell_type": "markdown",
   "metadata": {
    "slideshow": {
     "slide_type": "slide"
    }
   },
   "source": [
    "#Remember **kwargs lets you pass any named value and creates an arbitrary dict\n",
    "\n",
    "##Example\n",
    "\n",
    "def my_function(**kwargs):\n",
    "     print str(kwargs)\n",
    "\n",
    "my_function(a=12, b=“abc”)\n",
    "\n",
    "\n",
    "\n",
    "##Resources\n",
    "http://thecodeship.com/patterns/guide-to-python-function-decorators/\n"
   ]
  },
  {
   "cell_type": "markdown",
   "metadata": {
    "slideshow": {
     "slide_type": "slide"
    }
   },
   "source": [
    "# Think functional when performance matters\n",
    "- Main reason: for a program to take advantage of many processors simultaneously efficiently and reliably, the most compute-intensive units of code should behave like pure functions\n",
    "- Simple way to get started in python: map, filter, and reduce\n",
    "- map: get everything back, differently\n",
    "     - pass a function and a python object and get a transformed object back (many to many)\n",
    "- filter: get fewer things back\n",
    "     - pass a function that returns a boolean value and an object, get a subset back \n",
    "- reduce: get one thing back\n",
    "     - pass a function and an object, get a single value back\n"
   ]
  },
  {
   "cell_type": "markdown",
   "metadata": {
    "slideshow": {
     "slide_type": "slide"
    }
   },
   "source": [
    "#Using anonymous functions is compact, but can be confusing\n",
    "- necessary once you start\n",
    "- a must for cluster jobs (Spark)\n",
    "\n",
    "##Example\n",
    "\n",
    "Draw a grid with data types across the top and operations on those data types down the left side. If you slice the grid vertically, you're doing OO; if you slice the grid horizontally, you're doing FP\n",
    "\n"
   ]
  },
  {
   "cell_type": "markdown",
   "metadata": {
    "slideshow": {
     "slide_type": "slide"
    }
   },
   "source": [
    "#Protips on Python\n"
   ]
  },
  {
   "cell_type": "markdown",
   "metadata": {
    "slideshow": {
     "slide_type": "slide"
    }
   },
   "source": [
    "#Iterators\n",
    "- python generally doesn’t need intexes\n"
   ]
  },
  {
   "cell_type": "markdown",
   "metadata": {
    "slideshow": {
     "slide_type": "slide"
    }
   },
   "source": [
    "#Named tuples"
   ]
  },
  {
   "cell_type": "markdown",
   "metadata": {
    "slideshow": {
     "slide_type": "slide"
    }
   },
   "source": [
    "#List comprehension"
   ]
  },
  {
   "cell_type": "markdown",
   "metadata": {
    "slideshow": {
     "slide_type": "slide"
    }
   },
   "source": [
    "#Protips on Testing your Code"
   ]
  },
  {
   "cell_type": "markdown",
   "metadata": {
    "slideshow": {
     "slide_type": "slide"
    }
   },
   "source": [
    "#Real programmers write unit tests\n",
    "- I prefer doctest or py.test\n",
    "\n",
    "Illustrative Example:\n",
    "\n",
    "DSSG Example:"
   ]
  },
  {
   "cell_type": "markdown",
   "metadata": {
    "slideshow": {
     "slide_type": "slide"
    }
   },
   "source": [
    "#Go all the way on testing with Travis.CI\n",
    "- automatically runs test for you and tells you what is passing and failing\n",
    "- free for all open source projects\n",
    "- "
   ]
  },
  {
   "cell_type": "markdown",
   "metadata": {
    "slideshow": {
     "slide_type": "slide"
    }
   },
   "source": [
    "#Resources\n",
    "Engineering practices for data science\n",
    "http://blog.kaggle.com/2012/10/04/engineering-practices-in-data-science/\n",
    "\n",
    "\n",
    "Notes on projects:\n",
    "\n",
    "Australia\n",
    "https://github.com/dssg/Australian_Conservation_Foundation\n",
    "\n",
    "Babies\n",
    "https://github.com/dssg/babies\n",
    "\n",
    "Feeding America\n",
    "https://github.com/dssg/Feeding_America\n",
    "\n",
    "Police\n",
    "https://github.com/dssg/police\n",
    "\n",
    "Infonavit\n",
    "https://github.com/dssg/infonavit"
   ]
  },
  {
   "cell_type": "code",
   "execution_count": null,
   "metadata": {
    "collapsed": true
   },
   "outputs": [],
   "source": []
  }
 ],
 "metadata": {
  "celltoolbar": "Slideshow",
  "kernelspec": {
   "display_name": "Python 2",
   "language": "python",
   "name": "python2"
  },
  "language_info": {
   "codemirror_mode": {
    "name": "ipython",
    "version": 2
   },
   "file_extension": ".py",
   "mimetype": "text/x-python",
   "name": "python",
   "nbconvert_exporter": "python",
   "pygments_lexer": "ipython2",
   "version": "2.7.10"
  }
 },
 "nbformat": 4,
 "nbformat_minor": 0
}
